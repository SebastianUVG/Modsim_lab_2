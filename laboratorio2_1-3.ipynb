{
 "cells": [
  {
   "cell_type": "markdown",
   "id": "3e42506d",
   "metadata": {},
   "source": [

    "# Modelación y Simulación - Laboratorio 1\n",
    "+ Ana Laura Tschen 221645\n",
    "+ Sebastian Garcia 22291"
   ]
  },
  {
   "attachments": {
    "image.png": {
     "image/png": "[encoded data removed]"
    }
   },
   "cell_type": "markdown",
   "id": "ba1ddd3d",
   "metadata": {},
   "source": [
    "## 1. Tres refinerías con capacidades diarias de 6, 5 y 8 millones de galones, respectivamente, abastecen a tres áreas de distribución con demandas diarias de 4, 8 y 7 millones de galones, respectivamente. La gasolina se transporta a las tres áreas de distribución a través de una red de oleoductos. El costo de transporte es de $0.10 por 1000 galones por kilómetro de oleoducto. En la tabla 1 se presenta la distancia en kilómetros entre las refinerías y las áreas de distribución. La refinería 1 no está conectada al área de distribución 3.\n",
    "![image.png](attachment:image.png)"
   ]
  },
  {
   "cell_type": "markdown",
   "id": "6a059af1",
   "metadata": {},
   "source": [
    "### (a) Formular el modelo de transporte asociado."
   ]
  },
  {
   "cell_type": "markdown",
   "id": "c60be21b",
   "metadata": {},
   "source": [
    "Se definirá $I$ como las refinerías y $J$ como las áreas. Donde $I={1,2,3}$ y $J={1,2,3}$\n",
    "\n",
    "Las distancias se definiran como $d_{ij}$ utilizando km como unidades.\n",
    "\n",
    "Los galones por dia enviados de la refineria $i$ al area $j$ se definirá como $x_{ij} \\geq 0$\n",
    "\n",
    "Para realizar la conversión del costo, se hará lo siguiente:\n",
    "$$ 0.10(dolares/1000 gal*km)*\\frac{10^{6}gal}{1000gal}=100 dolares/(M de gal)*km$$\n",
    "\n",
    "Luego $c_{ij}=100d_{ij}$ si el arco existe. Si no hay oleoducto no se define $x_13$"
   ]
  },
  {
   "cell_type": "markdown",
   "id": "3f8d3198",
   "metadata": {},
   "source": [
    "\n",
    "\n",
    "\\begin{aligned}\n",
    "\\min\\ & \\sum_{i\\in I}\\sum_{j\\in J} c_{ij}\\,x_{ij}\n",
    "      \\quad\\text{con}\\quad c_{ij}=100\\,d_{ij} \\\\\n",
    "\\text{s.a. }\\\n",
    "& \\sum_{j\\in J} x_{ij} = s_i, && \\forall i\\in I \\quad \\text{(oferta)}\\\\\n",
    "& \\sum_{i\\in I} x_{ij} = d_j, && \\forall j\\in J \\quad \\text{(demanda)}\\\\\n",
    "& x_{ij} \\ge 0, && \\forall (i,j)\\in A\n",
    "\\end{aligned}\n",
    "\n",
    "\n"
   ]
  },
  {
   "cell_type": "markdown",
   "id": "55a591eb",
   "metadata": {},
   "source": [
    "En donde $s=(6,5,8)$, $d=(4,8,7)$ (en millones de galones), y $A$ es el conjunto de arcos permitidos, para todos menos $(1,3)$."
   ]
  },
  {
   "cell_type": "markdown",
   "id": "302b76af",
   "metadata": {},
   "source": [
    "### (b) Usando JuMP o Pupl, determine el programa de envíos óptimo en la red de distribución.\n"
   ]
  },
  {
   "cell_type": "code",
   "execution_count": 1,
   "id": "2c711e73",
   "metadata": {},
   "outputs": [
    {
     "name": "stderr",
     "output_type": "stream",
     "text": [
      "\u001b[32m\u001b[1m    Updating\u001b[22m\u001b[39m registry at `C:\\Users\\alambre1\\.julia\\registries\\General.toml`\n",
      "\u001b[32m\u001b[1m   Resolving\u001b[22m\u001b[39m package versions...\n",
      "\u001b[32m\u001b[1m  No Changes\u001b[22m\u001b[39m to `C:\\Users\\alambre1\\.julia\\environments\\v1.11\\Project.toml`\n",
      "\u001b[32m\u001b[1m  No Changes\u001b[22m\u001b[39m to `C:\\Users\\alambre1\\.julia\\environments\\v1.11\\Manifest.toml`\n"
     ]
    }
   ],
   "source": [
    "import Pkg\n",
    "Pkg.add([\"JuMP\",\"HiGHS\",\"DataFrames\",\"PrettyTables\"])"
   ]
  },
  {
   "cell_type": "code",
   "execution_count": 2,
   "id": "e766781d",
   "metadata": {},
   "outputs": [],
   "source": [
    "using JuMP, HiGHS, DataFrames, PrettyTables"
   ]
  },
  {
   "cell_type": "code",
   "execution_count": 4,
   "id": "ae893672",
   "metadata": {},
   "outputs": [
    {
     "name": "stdout",
     "output_type": "stream",
     "text": [
      "Running HiGHS 1.11.0 (git hash: 364c83a51e): Copyright (c) 2025 HiGHS under MIT licence terms\n",
      "LP   has 6 rows; 8 cols; 16 nonzeros\n",
      "Coefficient ranges:\n",
      "  Matrix [1e+00, 1e+00]\n",
      "  Cost   [8e+03, 3e+04]\n",
      "  Bound  [0e+00, 0e+00]\n",
      "  RHS    [4e+00, 8e+00]\n",
      "Presolving model\n",
      "4 rows, 6 cols, 12 nonzeros  0s\n",
      "Dependent equations search running on 4 equations with time limit of 1000.00s\n",
      "Dependent equations search removed 1 rows and 3 nonzeros in 0.00s (limit = 1000.00s)\n",
      "3 rows, 6 cols, 9 nonzeros  0s\n",
      "Presolve : Reductions: rows 3(-3); columns 6(-2); elements 9(-7)\n",
      "Solving the presolved LP\n",
      "Using EKK dual simplex solver - serial\n",
      "  Iteration        Objective     Infeasibilities num(sum)\n",
      "          0     0.0000000000e+00 Ph1: 0(0) 0s\n",
      "          3     2.4300000000e+05 Pr: 0(0) 0s\n",
      "Solving the original LP from the solution after postsolve\n",
      "Model status        : Optimal\n",
      "Simplex   iterations: 3\n",
      "Objective value     :  2.4300000000e+05\n",
      "P-D objective error :  0.0000000000e+00\n",
      "HiGHS run time      :          0.00\n"
     ]
    },
    {
     "data": {
      "text/plain": [
       "243000.0"
      ]
     },
     "metadata": {},
     "output_type": "display_data"
    }
   ],
   "source": [
    "I = [\"R1\",\"R2\",\"R3\"]\n",
    "J = [\"A1\",\"A2\",\"A3\"]\n",
    "\n",
    "D = Dict(\n",
    "    (\"R1\",\"A1\") => 120, (\"R1\",\"A2\") => 180,\n",
    "    (\"R2\",\"A1\") => 300, (\"R2\",\"A2\") => 100, (\"R2\",\"A3\") => 80,\n",
    "    (\"R3\",\"A1\") => 200, (\"R3\",\"A2\") => 250, (\"R3\",\"A3\") => 120\n",
    ")\n",
    "\n",
    "s = Dict(\"R1\"=>6.0, \"R2\"=>5.0, \"R3\"=>8.0)\n",
    "d = Dict(\"A1\"=>4.0, \"A2\"=>8.0, \"A3\"=>7.0)\n",
    "\n",
    "A = collect(keys(D))\n",
    "c = Dict(a => 100.0 * D[a] for a in A)   \n",
    "\n",
    "model = Model(HiGHS.Optimizer)\n",
    "@variable(model, x[a in A] >= 0)\n",
    "\n",
    "@constraint(model, [i in I], sum(x[(i,j)] for j in J if (i,j) in A) == s[i])\n",
    "@constraint(model, [j in J], sum(x[(i,j)] for i in I if (i,j) in A) == d[j])\n",
    "\n",
    "@objective(model, Min, sum(c[a] * x[a] for a in A))\n",
    "optimize!(model)\n",
    "\n",
    "ship = Dict(a => value(x[a]) for a in A)\n",
    "total_cost = objective_value(model)"
   ]
  },
  {
   "cell_type": "code",
   "execution_count": 5,
   "id": "054ba94a",
   "metadata": {},
   "outputs": [
    {
     "name": "stdout",
     "output_type": "stream",
     "text": [
      "Plan óptimo (millones de galones/día):\n",
      "┌───────────┬─────────┬─────────┬─────────┐\n",
      "│\u001b[1m Refinería \u001b[0m│\u001b[1m      A1 \u001b[0m│\u001b[1m      A2 \u001b[0m│\u001b[1m      A3 \u001b[0m│\n",
      "│\u001b[90m    String \u001b[0m│\u001b[90m Float64 \u001b[0m│\u001b[90m Float64 \u001b[0m│\u001b[90m Float64 \u001b[0m│\n",
      "├───────────┼─────────┼─────────┼─────────┤\n",
      "│        R1 │       4 │       2 │       0 │\n",
      "│        R2 │       0 │       5 │       0 │\n",
      "│        R3 │       0 │       1 │       7 │\n",
      "└───────────┴─────────┴─────────┴─────────┘\n",
      "Costo total óptimo = $243000.0\n"
     ]
    }
   ],
   "source": [
    "mat = [\n",
    "    get(ship, (\"R1\",\"A1\"), 0.0)  get(ship, (\"R1\",\"A2\"), 0.0)  0.0;\n",
    "    get(ship, (\"R2\",\"A1\"), 0.0)  get(ship, (\"R2\",\"A2\"), 0.0)  get(ship, (\"R2\",\"A3\"), 0.0);\n",
    "    get(ship, (\"R3\",\"A1\"), 0.0)  get(ship, (\"R3\",\"A2\"), 0.0)  get(ship, (\"R3\",\"A3\"), 0.0)\n",
    "]\n",
    "df = DataFrame(Refinería = I, A1 = mat[:,1], A2 = mat[:,2], A3 = mat[:,3])\n",
    "\n",
    "println(\"Plan óptimo (millones de galones/día):\")\n",
    "pretty_table(df; formatters = ft_printf(\"%.0f\"))\n",
    "println(\"Costo total óptimo = \\$\", round(total_cost; digits=0))"
   ]
  },
  {
   "cell_type": "markdown",
   "id": "3f8e9102",
   "metadata": {},
   "source": [
    "Respuesta: El plan óptimo reparte los envíos así (en millones de galones/día): R1→A1 = 4, R1→A2 = 2, R2→A2 = 5, R3→A2 = 1 y R3→A3 = 7 (los demás flujos son 0). Con esto:\n",
    "\n",
    "+ Por lo que se satisface exactamente la demanda: A1=4, A2=8 (2 de R1 + 5 de R2 + 1 de R3), A3=7 (todo de R3).\n",
    "\n",
    "+ Se usa toda la oferta: R1=6 (4+2), R2=5 (todo a A2), R3=8 (1 a A2 y 7 a A3).\n",
    "\n",
    "+ No se envía de R1→A3 (arco inexistente), y se priorizan los tramos más baratos: R2→A2 (100 km) y R3→A3 (120 km). R1 divide entre A1 (120 km) y A2 (180 km) para completar A2.\n",
    "\n",
    "El costo total mínimo resultante es $243,000 por día. El modelo concentra el flujo en las rutas de menor costo y evita las conexiones ausentes, cumpliendo oferta y demanda sin excedentes.\n"
   ]
  },
  {
   "cell_type": "markdown",
   "id": "48eff2b1",
   "metadata": {},
   "source": [
    "### (c) Suponga ahora que la demanda diaria en el área 3 disminuye a 4 millones de galones. La producción excedente en las refinerías 1 y 2 se envía a otras áreas de distribución por medio de camiones. El costo de transporte por 100 galones es de $1.50 desde la refinería 1 y de $2.20 desde la refinería 2. La refinería 3 puede enviar su producción excedente a otros procesos químicos dentro de la planta. Formule y resuelva de nuevo el programa óptimo de envíos.\n"
   ]
  },
  {
   "cell_type": "markdown",
   "id": "33570338",
   "metadata": {},
   "source": [
    "La formulación del problema sería la siguiente:\n",
    "\n",
    "Se da una baja de la demanda de A3 a 4 y el excedente total es de 3 millones de galones por día. Este excedente se va a un dump y se absorbe. Esto permite que cada refinería pueda enviar lo siguiente:\n",
    "+ R1 por camión a $1.50 / 100 gal = $15,000 por millón.\n",
    "+ R2 por camión a $2.20 / 100 gal = $22,000 por millón.\n",
    "+ R3 a otros procesos internos ($0 por millón). Los oleoductos y costos por km se mantienen, y R1→A3 sigue prohibido."
   ]
  },
  {
   "cell_type": "markdown",
   "id": "5c86f589",
   "metadata": {},
   "source": [
    "\\begin{aligned}\n",
    "\\text{Conjuntos: }& I=\\{1,2,3\\},\\quad J'=\\{1,2,3,D\\}.\\\\\n",
    "\\text{Datos: }& s=(6,5,8),\\quad d'=(4,8,4,3),\\\\\n",
    "& c_{ij}=100\\,d_{ij}\\ \\text{si } j\\in\\{1,2,3\\},\\quad\n",
    "c_{1D}=15000,\\ c_{2D}=22000,\\ c_{3D}=0.\\\\\n",
    "\\text{Vars: }& x_{ij}\\ge 0\\ \\text{para }(i,j)\\in A'\\ \\text{(arcos permitidos, sin }(1,3)\\text{)}.\\\\[2mm]\n",
    "\\min\\ & \\sum_{(i,j)\\in A'} c_{ij}\\,x_{ij}\\\\\n",
    "\\text{s.a. }&\n",
    "\\sum_{j\\in J'} x_{ij} = s_i,\\quad \\forall i\\in I \\quad \\text{(oferta)}\\\\\n",
    "&\\sum_{i\\in I} x_{ij} = d'_j,\\quad \\forall j\\in J' \\quad \\text{(demanda)}\\\\\n",
    "&x_{ij}\\ge 0,\\quad \\forall(i,j)\\in A'.\n",
    "\\end{aligned}"
   ]
  },
  {
   "cell_type": "code",
   "execution_count": 6,
   "id": "d629bbd6",
   "metadata": {},
   "outputs": [
    {
     "name": "stdout",
     "output_type": "stream",
     "text": [
      "Running HiGHS 1.11.0 (git hash: 364c83a51e): Copyright (c) 2025 HiGHS under MIT licence terms\n",
      "LP   has 7 rows; 11 cols; 22 nonzeros\n",
      "Coefficient ranges:\n",
      "  Matrix [1e+00, 1e+00]\n",
      "  Cost   [8e+03, 3e+04]\n",
      "  Bound  [0e+00, 0e+00]\n",
      "  RHS    [3e+00, 8e+00]\n",
      "Presolving model\n",
      "6 rows, 10 cols, 20 nonzeros  0s\n",
      "Dependent equations search running on 6 equations with time limit of 1000.00s\n",
      "Dependent equations search removed 1 rows and 4 nonzeros in 0.00s (limit = 1000.00s)\n",
      "5 rows, 10 cols, 16 nonzeros  0s\n",
      "Presolve : Reductions: rows 5(-2); columns 10(-1); elements 16(-6)\n",
      "Solving the presolved LP\n",
      "Using EKK dual simplex solver - serial\n",
      "  Iteration        Objective     Infeasibilities num(sum)\n",
      "          0     0.0000000000e+00 Ph1: 0(0) 0s\n",
      "          5     2.0700000000e+05 Pr: 0(0) 0s\n",
      "Solving the original LP from the solution after postsolve\n",
      "Model status        : Optimal\n",
      "Simplex   iterations: 5\n",
      "Objective value     :  2.0700000000e+05\n",
      "P-D objective error :  0.0000000000e+00\n",
      "HiGHS run time      :          0.00\n"
     ]
    },
    {
     "data": {
      "text/plain": [
       "207000.0"
      ]
     },
     "metadata": {},
     "output_type": "display_data"
    }
   ],
   "source": [
    "I = [\"R1\",\"R2\",\"R3\"]\n",
    "J2 = [\"A1\",\"A2\",\"A3\",\"DUMP\"]\n",
    "\n",
    "D = Dict(\n",
    "    (\"R1\",\"A1\") => 120, (\"R1\",\"A2\") => 180,\n",
    "    (\"R2\",\"A1\") => 300, (\"R2\",\"A2\") => 100, (\"R2\",\"A3\") => 80,\n",
    "    (\"R3\",\"A1\") => 200, (\"R3\",\"A2\") => 250, (\"R3\",\"A3\") => 120\n",
    ")\n",
    "\n",
    "s = Dict(\"R1\"=>6.0, \"R2\"=>5.0, \"R3\"=>8.0)\n",
    "d2 = Dict(\"A1\"=>4.0, \"A2\"=>8.0, \"A3\"=>4.0, \"DUMP\"=>3.0) #definicion de nuestro dump\n",
    "\n",
    "A2 = Set([(i,j) for i in I for j in [\"A1\",\"A2\",\"A3\"] if (i,j) != (\"R1\",\"A3\")])\n",
    "A2 = union(A2, Set([(i,\"DUMP\") for i in I]))\n",
    "\n",
    "#definicion de costos\n",
    "c2 = Dict{Tuple{String,String},Float64}()\n",
    "for (i,j) in A2\n",
    "    if j == \"DUMP\"\n",
    "        c2[(i,j)] = i==\"R1\" ? 15000.0 : (i==\"R2\" ? 22000.0 : 0.0)\n",
    "    else\n",
    "        c2[(i,j)] = 100.0 * D[(i,j)]\n",
    "    end\n",
    "end\n",
    "\n",
    "model2 = Model(HiGHS.Optimizer)\n",
    "@variable(model2, x[a in A2] >= 0)\n",
    "\n",
    "@constraint(model2, [i in I], sum(x[(i,j)] for j in J2 if (i,j) in A2) == s[i])\n",
    "@constraint(model2, [j in J2], sum(x[(i,j)] for i in I if (i,j) in A2) == d2[j])\n",
    "\n",
    "@objective(model2, Min, sum(c2[a]*x[a] for a in A2))\n",
    "optimize!(model2)\n",
    "\n",
    "ship2 = Dict(a => value(x[a]) for a in A2)\n",
    "total_cost2 = objective_value(model2)"
   ]
  },
  {
   "cell_type": "code",
   "execution_count": 7,
   "id": "cd401bb6",
   "metadata": {},
   "outputs": [
    {
     "name": "stdout",
     "output_type": "stream",
     "text": [
      "Plan óptimo (millones de galones/día) con DUMP:\n",
      "┌───────────┬─────────┬─────────┬─────────┬─────────┐\n",
      "│\u001b[1m Refinería \u001b[0m│\u001b[1m      A1 \u001b[0m│\u001b[1m      A2 \u001b[0m│\u001b[1m      A3 \u001b[0m│\u001b[1m    DUMP \u001b[0m│\n",
      "│\u001b[90m    String \u001b[0m│\u001b[90m Float64 \u001b[0m│\u001b[90m Float64 \u001b[0m│\u001b[90m Float64 \u001b[0m│\u001b[90m Float64 \u001b[0m│\n",
      "├───────────┼─────────┼─────────┼─────────┼─────────┤\n",
      "│        R1 │       4 │       2 │       0 │       0 │\n",
      "│        R2 │       0 │       5 │       0 │       0 │\n",
      "│        R3 │       0 │       1 │       4 │       3 │\n",
      "└───────────┴─────────┴─────────┴─────────┴─────────┘\n",
      "Costo total óptimo = $207000.0\n"
     ]
    }
   ],
   "source": [
    "df2 = DataFrame(\n",
    "    Refinería = I,\n",
    "    A1   = [get(ship2, (\"R1\",\"A1\"), 0.0), get(ship2, (\"R2\",\"A1\"), 0.0), get(ship2, (\"R3\",\"A1\"), 0.0)],\n",
    "    A2   = [get(ship2, (\"R1\",\"A2\"), 0.0), get(ship2, (\"R2\",\"A2\"), 0.0), get(ship2, (\"R3\",\"A2\"), 0.0)],\n",
    "    A3   = [0.0, get(ship2, (\"R2\",\"A3\"), 0.0), get(ship2, (\"R3\",\"A3\"), 0.0)],\n",
    "    DUMP = [get(ship2, (\"R1\",\"DUMP\"), 0.0), get(ship2, (\"R2\",\"DUMP\"), 0.0), get(ship2, (\"R3\",\"DUMP\"), 0.0)]\n",
    ")\n",
    "\n",
    "println(\"Plan óptimo (millones de galones/día) con DUMP:\")\n",
    "pretty_table(df2; formatters = ft_printf(\"%.0f\"))\n",
    "println(\"Costo total óptimo = \\$\", round(total_cost2; digits=0))"
   ]
  },
  {
   "cell_type": "markdown",
   "id": "767120bd",
   "metadata": {},
   "source": [
    "Respuesta:  El excedente de 3 millones se envía íntegramente desde R3 al nodo DUMP porque su costo es 0, mientras que enviar excedentes desde R1 o R2 por camión sería más caro ($15,000 y $22,000 por millón). Se mantienen los oleoductos de menor costo para satisfacer A1 y A2 (R2→A2 y R1→A1/A2), y A3 se abastece parcialmente desde R3 (4 millones). De este modo, se cumplen todas las ofertas y demandas al menor costo posible."
   ]
  },
  {
   "cell_type": "code",
   "execution_count": 2,
   "id": "93c63aa6",
   "metadata": {},
   "outputs": [],
   "source": [
    "using JuMP\n",
    "using Ipopt\n",
    "using HiGHS\n",
    "using Optimization"
   ]
  },
  {
   "cell_type": "markdown",
   "id": "ad2f599e",
   "metadata": {},
   "source": [
    "# Ejercicio 1:\n"
   ]
  },
  {
   "cell_type": "code",
   "execution_count": null,
   "id": "9ad35d57",
   "metadata": {},
   "outputs": [],
   "source": []
  },
  {
   "attachments": {
    "image.png": {
     "image/png": "[encoded data removed]"
    }
   },
   "cell_type": "markdown",
   "id": "e6d55f70",
   "metadata": {},
   "source": [
    "# Ejercicio 2: \n",
    "![image.png](attachment:image.png)"
   ]
  },
  {
   "cell_type": "code",
   "execution_count": 4,
   "id": "f15dbb1f",
   "metadata": {},
   "outputs": [
    {
     "name": "stdout",
     "output_type": "stream",
     "text": [
      "Running HiGHS 1.11.0 (git hash: 364c83a51e): Copyright (c) 2025 HiGHS under MIT licence terms\n",
      "MIP  has 14 rows; 49 cols; 98 nonzeros; 49 integer variables (49 binary)\n",
      "Coefficient ranges:\n",
      "  Matrix [1e+00, 1e+00]\n",
      "  Cost   [2e+00, 1e+01]\n",
      "  Bound  [1e+00, 1e+00]\n",
      "  RHS    [1e+00, 1e+00]\n",
      "Presolving model\n",
      "14 rows, 49 cols, 98 nonzeros  0s\n",
      "14 rows, 49 cols, 98 nonzeros  0s\n",
      "Objective function is integral with scale 1\n",
      "\n",
      "Solving MIP model with:\n",
      "   14 rows\n",
      "   49 cols (49 binary, 0 integer, 0 implied int., 0 continuous, 0 domain fixed)\n",
      "   98 nonzeros\n",
      "\n",
      "Src: B => Branching; C => Central rounding; F => Feasibility pump; J => Feasibility jump;\n",
      "     H => Heuristic; L => Sub-MIP; P => Empty MIP; R => Randomized rounding; Z => ZI Round;\n",
      "     I => Shifting; S => Solve LP; T => Evaluate node; U => Unbounded; X => User solution;\n",
      "     z => Trivial zero; l => Trivial lower; u => Trivial upper; p => Trivial point\n",
      "\n",
      "        Nodes      |    B&B Tree     |            Objective Bounds              |  Dynamic Constraints |       Work      \n",
      "Src  Proc. InQueue |  Leaves   Expl. | BestBound       BestSol              Gap |   Cuts   InLp Confl. | LpIters     Time\n",
      "\n",
      " J       0       0         0   0.00%   -inf            28                 Large        0      0      0         0     0.0s\n",
      " T       0       0         0   0.00%   0               15               100.00%        0      0      0        16     0.0s\n",
      "         1       0         1 100.00%   15              15                 0.00%        0      0      0        16     0.0s\n",
      "\n",
      "Solving report\n",
      "  Status            Optimal\n",
      "  Primal bound      15\n",
      "  Dual bound        15\n",
      "  Gap               0% (tolerance: 0.01%)\n",
      "  P-D integral      0.00063681602478\n",
      "  Solution status   feasible\n",
      "                    15 (objective)\n",
      "                    0 (bound viol.)\n",
      "                    0 (int. viol.)\n",
      "                    0 (row viol.)\n",
      "  Timing            0.01 (total)\n",
      "                    0.00 (presolve)\n",
      "                    0.00 (solve)\n",
      "                    0.00 (postsolve)\n",
      "  Max sub-MIP depth 0\n",
      "  Nodes             1\n",
      "  Repair LPs        0 (0 feasible; 0 iterations)\n",
      "  LP iterations     16 (total)\n",
      "                    0 (strong br.)\n",
      "                    0 (separation)\n",
      "                    0 (heuristics)\n",
      "x = [0.0 0.0 1.0 0.0 -0.0 -0.0 0.0; 0.0 0.0 0.0 0.0 0.0 1.0 0.0; 1.0 0.0 -0.0 -0.0 0.0 0.0 0.0; 0.0 1.0 0.0 0.0 0.0 0.0 0.0; 0.0 0.0 0.0 0.0 1.0 0.0 0.0; 0.0 0.0 0.0 1.0 0.0 0.0 0.0; -0.0 -0.0 0.0 0.0 0.0 0.0 1.0]\n",
      "Objetive Value = 15.0"
     ]
    }
   ],
   "source": [
    "# Define LP Model\n",
    "model2 = Model()\n",
    "\n",
    "# supuestos\n",
    "costos = [\n",
    "    3 8 2 10 3 3 9;\n",
    "    2 2 7 6 5 2 7;\n",
    "    5 6 4 5 6 6 6;\n",
    "    4 2 7 5 9 4 7;\n",
    "    10 3 8 4 2 3 5;\n",
    "    3 5 4 2 3 7 8;\n",
    "    0 0 0 0 0 0 0\n",
    "]\n",
    "\n",
    "#Variable\n",
    "@variable(model2, x[1:7 , 1:7] >= 0, Bin)\n",
    "\n",
    "# constraints\n",
    "\n",
    "@constraint(model2, sum(x[1,j] for j in 1:7) == 1)\n",
    "@constraint(model2, sum(x[2,j] for j in 1:7) == 1)\n",
    "@constraint(model2, sum(x[3,j] for j in 1:7) == 1)\n",
    "@constraint(model2, sum(x[4,j] for j in 1:7) == 1)\n",
    "@constraint(model2, sum(x[5,j] for j in 1:7) == 1)\n",
    "@constraint(model2, sum(x[6,j] for j in 1:7) == 1)\n",
    "@constraint(model2, sum(x[7,j] for j in 1:7) == 1)\n",
    "\n",
    "@constraint(model2, sum(x[i,1] for i in 1:7) == 1)\n",
    "@constraint(model2, sum(x[i,2] for i in 1:7) == 1)\n",
    "@constraint(model2, sum(x[i,3] for i in 1:7) == 1)\n",
    "@constraint(model2, sum(x[i,4] for i in 1:7) == 1)\n",
    "@constraint(model2, sum(x[i,5] for i in 1:7) == 1)\n",
    "@constraint(model2, sum(x[i,6] for i in 1:7) == 1)\n",
    "@constraint(model2, sum(x[i,7] for i in 1:7) == 1)\n",
    "\n",
    "#objective function\n",
    "@objective(model2, Min, sum(costos[i,j] * x[i,j] for i in 1:7, j in 1:7))\n",
    "\n",
    "set_optimizer(model2, HiGHS.Optimizer)\n",
    "\n",
    "optimize!(model2)\n",
    "\n",
    "print(\"x = \", value.(x), \"\\n\")\n",
    "\n",
    "print(\"Objetive Value = \",objective_value(model2))\n",
    "\n",
    "\n"
   ]
  },
  {
   "cell_type": "markdown",
   "id": "46930088",
   "metadata": {},
   "source": [
    "# Ejercicio 3:"
   ]
  },
  {
   "cell_type": "code",
   "execution_count": null,
   "id": "74438977",
   "metadata": {},
   "outputs": [],
   "source": []
  }
 ],
 "metadata": {
  "kernelspec": {
   "display_name": "Julia 1.11.6",
   "language": "julia",
   "name": "julia-1.11"
  },
  "language_info": {
   "file_extension": ".jl",
   "mimetype": "application/julia",
   "name": "julia",
   "version": "1.11.6"
  }
 },
 "nbformat": 4,
 "nbformat_minor": 5
}
