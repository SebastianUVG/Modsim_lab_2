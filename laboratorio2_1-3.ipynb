{
 "cells": [
  {
   "cell_type": "markdown",
   "id": "3e42506d",
   "metadata": {},
   "source": [
    "# Modelación y Simulación - Laboratorio 2 Ejercicios 1 al 3\n",
    "### Ana Laura Tschen 221645\n",
    "### Sebastian Garcia 22291"
   ]
  },
  {
   "cell_type": "code",
   "execution_count": 2,
   "id": "93c63aa6",
   "metadata": {},
   "outputs": [],
   "source": [
    "using JuMP\n",
    "using Ipopt\n",
    "using HiGHS\n",
    "using Optimization"
   ]
  },
  {
   "cell_type": "markdown",
   "id": "ad2f599e",
   "metadata": {},
   "source": [
    "# Ejercicio 1:\n"
   ]
  },
  {
   "cell_type": "code",
   "execution_count": null,
   "id": "9ad35d57",
   "metadata": {},
   "outputs": [],
   "source": []
  },
  {
   "attachments": {
    "image.png": {
     "image/png": "[encoded data removed]"
    }
   },
   "cell_type": "markdown",
   "id": "e6d55f70",
   "metadata": {},
   "source": [
    "# Ejercicio 2: \n",
    "![image.png](attachment:image.png)"
   ]
  },
  {
   "cell_type": "code",
   "execution_count": 4,
   "id": "f15dbb1f",
   "metadata": {},
   "outputs": [
    {
     "name": "stdout",
     "output_type": "stream",
     "text": [
      "Running HiGHS 1.11.0 (git hash: 364c83a51e): Copyright (c) 2025 HiGHS under MIT licence terms\n",
      "MIP  has 14 rows; 49 cols; 98 nonzeros; 49 integer variables (49 binary)\n",
      "Coefficient ranges:\n",
      "  Matrix [1e+00, 1e+00]\n",
      "  Cost   [2e+00, 1e+01]\n",
      "  Bound  [1e+00, 1e+00]\n",
      "  RHS    [1e+00, 1e+00]\n",
      "Presolving model\n",
      "14 rows, 49 cols, 98 nonzeros  0s\n",
      "14 rows, 49 cols, 98 nonzeros  0s\n",
      "Objective function is integral with scale 1\n",
      "\n",
      "Solving MIP model with:\n",
      "   14 rows\n",
      "   49 cols (49 binary, 0 integer, 0 implied int., 0 continuous, 0 domain fixed)\n",
      "   98 nonzeros\n",
      "\n",
      "Src: B => Branching; C => Central rounding; F => Feasibility pump; J => Feasibility jump;\n",
      "     H => Heuristic; L => Sub-MIP; P => Empty MIP; R => Randomized rounding; Z => ZI Round;\n",
      "     I => Shifting; S => Solve LP; T => Evaluate node; U => Unbounded; X => User solution;\n",
      "     z => Trivial zero; l => Trivial lower; u => Trivial upper; p => Trivial point\n",
      "\n",
      "        Nodes      |    B&B Tree     |            Objective Bounds              |  Dynamic Constraints |       Work      \n",
      "Src  Proc. InQueue |  Leaves   Expl. | BestBound       BestSol              Gap |   Cuts   InLp Confl. | LpIters     Time\n",
      "\n",
      " J       0       0         0   0.00%   -inf            28                 Large        0      0      0         0     0.0s\n",
      " T       0       0         0   0.00%   0               15               100.00%        0      0      0        16     0.0s\n",
      "         1       0         1 100.00%   15              15                 0.00%        0      0      0        16     0.0s\n",
      "\n",
      "Solving report\n",
      "  Status            Optimal\n",
      "  Primal bound      15\n",
      "  Dual bound        15\n",
      "  Gap               0% (tolerance: 0.01%)\n",
      "  P-D integral      0.00063681602478\n",
      "  Solution status   feasible\n",
      "                    15 (objective)\n",
      "                    0 (bound viol.)\n",
      "                    0 (int. viol.)\n",
      "                    0 (row viol.)\n",
      "  Timing            0.01 (total)\n",
      "                    0.00 (presolve)\n",
      "                    0.00 (solve)\n",
      "                    0.00 (postsolve)\n",
      "  Max sub-MIP depth 0\n",
      "  Nodes             1\n",
      "  Repair LPs        0 (0 feasible; 0 iterations)\n",
      "  LP iterations     16 (total)\n",
      "                    0 (strong br.)\n",
      "                    0 (separation)\n",
      "                    0 (heuristics)\n",
      "x = [0.0 0.0 1.0 0.0 -0.0 -0.0 0.0; 0.0 0.0 0.0 0.0 0.0 1.0 0.0; 1.0 0.0 -0.0 -0.0 0.0 0.0 0.0; 0.0 1.0 0.0 0.0 0.0 0.0 0.0; 0.0 0.0 0.0 0.0 1.0 0.0 0.0; 0.0 0.0 0.0 1.0 0.0 0.0 0.0; -0.0 -0.0 0.0 0.0 0.0 0.0 1.0]\n",
      "Objetive Value = 15.0"
     ]
    }
   ],
   "source": [
    "# Define LP Model\n",
    "model2 = Model()\n",
    "\n",
    "# supuestos\n",
    "costos = [\n",
    "    3 8 2 10 3 3 9;\n",
    "    2 2 7 6 5 2 7;\n",
    "    5 6 4 5 6 6 6;\n",
    "    4 2 7 5 9 4 7;\n",
    "    10 3 8 4 2 3 5;\n",
    "    3 5 4 2 3 7 8;\n",
    "    0 0 0 0 0 0 0\n",
    "]\n",
    "\n",
    "#Variable\n",
    "@variable(model2, x[1:7 , 1:7] >= 0, Bin)\n",
    "\n",
    "# constraints\n",
    "\n",
    "@constraint(model2, sum(x[1,j] for j in 1:7) == 1)\n",
    "@constraint(model2, sum(x[2,j] for j in 1:7) == 1)\n",
    "@constraint(model2, sum(x[3,j] for j in 1:7) == 1)\n",
    "@constraint(model2, sum(x[4,j] for j in 1:7) == 1)\n",
    "@constraint(model2, sum(x[5,j] for j in 1:7) == 1)\n",
    "@constraint(model2, sum(x[6,j] for j in 1:7) == 1)\n",
    "@constraint(model2, sum(x[7,j] for j in 1:7) == 1)\n",
    "\n",
    "@constraint(model2, sum(x[i,1] for i in 1:7) == 1)\n",
    "@constraint(model2, sum(x[i,2] for i in 1:7) == 1)\n",
    "@constraint(model2, sum(x[i,3] for i in 1:7) == 1)\n",
    "@constraint(model2, sum(x[i,4] for i in 1:7) == 1)\n",
    "@constraint(model2, sum(x[i,5] for i in 1:7) == 1)\n",
    "@constraint(model2, sum(x[i,6] for i in 1:7) == 1)\n",
    "@constraint(model2, sum(x[i,7] for i in 1:7) == 1)\n",
    "\n",
    "#objective function\n",
    "@objective(model2, Min, sum(costos[i,j] * x[i,j] for i in 1:7, j in 1:7))\n",
    "\n",
    "set_optimizer(model2, HiGHS.Optimizer)\n",
    "\n",
    "optimize!(model2)\n",
    "\n",
    "print(\"x = \", value.(x), \"\\n\")\n",
    "\n",
    "print(\"Objetive Value = \",objective_value(model2))\n",
    "\n",
    "\n"
   ]
  },
  {
   "cell_type": "markdown",
   "id": "46930088",
   "metadata": {},
   "source": [
    "# Ejercicio 3:"
   ]
  },
  {
   "cell_type": "code",
   "execution_count": null,
   "id": "74438977",
   "metadata": {},
   "outputs": [],
   "source": []
  }
 ],
 "metadata": {
  "kernelspec": {
   "display_name": "Julia 1.11.6",
   "language": "julia",
   "name": "julia-1.11"
  },
  "language_info": {
   "file_extension": ".jl",
   "mimetype": "application/julia",
   "name": "julia",
   "version": "1.11.6"
  }
 },
 "nbformat": 4,
 "nbformat_minor": 5
}
